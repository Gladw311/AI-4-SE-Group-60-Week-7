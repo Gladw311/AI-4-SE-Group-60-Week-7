{
  "nbformat": 4,
  "nbformat_minor": 0,
  "metadata": {
    "colab": {
      "provenance": [],
      "authorship_tag": "ABX9TyNaPgQjEJU+2c+M+G3rBk8W",
      "include_colab_link": true
    },
    "kernelspec": {
      "name": "python3",
      "display_name": "Python 3"
    },
    "language_info": {
      "name": "python"
    }
  },
  "cells": [
    {
      "cell_type": "markdown",
      "metadata": {
        "id": "view-in-github",
        "colab_type": "text"
      },
      "source": [
        "<a href=\"https://colab.research.google.com/github/Gladw311/AI-4-SE-Group-60-Week-7/blob/main/Part_2_case_study_1_Week_7.ipynb\" target=\"_parent\"><img src=\"https://colab.research.google.com/assets/colab-badge.svg\" alt=\"Open In Colab\"/></a>"
      ]
    },
    {
      "cell_type": "code",
      "execution_count": 1,
      "metadata": {
        "colab": {
          "base_uri": "https://localhost:8080/"
        },
        "id": "OAJ9yjS1L6O-",
        "outputId": "b55f7ce6-10ce-4689-a6f2-304604ac7bba"
      },
      "outputs": [
        {
          "output_type": "stream",
          "name": "stdout",
          "text": [
            "Sample Applicant Data:\n",
            "   candidate_id  gender  ai_selected\n",
            "0             1    male         True\n",
            "1             2  female        False\n",
            "2             3    male         True\n",
            "3             4    male        False\n",
            "4             5  female         True\n",
            "5             6  female        False\n",
            "6             7    male         True\n",
            "7             8  female        False\n",
            "8             9    male         True\n",
            "9            10  female        False\n",
            "\n",
            "==============================\n",
            "\n"
          ]
        }
      ],
      "source": [
        "import pandas as pd\n",
        "\n",
        "# 1. Create a sample dataset of applicants\n",
        "data = {\n",
        "    'candidate_id': range(1, 11),\n",
        "    'gender': ['male', 'female', 'male', 'male', 'female', 'female', 'male', 'female', 'male', 'female'],\n",
        "    'ai_selected': [True, False, True, False, True, False, True, False, True, False]\n",
        "}\n",
        "df = pd.DataFrame(data)\n",
        "\n",
        "print(\"Sample Applicant Data:\")\n",
        "print(df)\n",
        "print(\"\\n\" + \"=\"*30 + \"\\n\")"
      ]
    },
    {
      "cell_type": "code",
      "source": [
        "# 2. Calculate selection rates for each gender\n",
        "male_applicants = df[df['gender'] == 'male']\n",
        "female_applicants = df[df['gender'] == 'female']\n",
        "\n",
        "male_selection_rate = male_applicants['ai_selected'].mean()\n",
        "female_selection_rate = female_applicants['ai_selected'].mean()"
      ],
      "metadata": {
        "id": "VZxmrA1mMHEx"
      },
      "execution_count": 3,
      "outputs": []
    },
    {
      "cell_type": "code",
      "source": [
        "# 3. Display the results\n",
        "print(f\"Total Male Applicants: {len(male_applicants)}\")\n",
        "print(f\"Total Female Applicants: {len(female_applicants)}\")\n",
        "print(\"-\" * 30)\n",
        "print(f\"Male Selection Rate: {male_selection_rate:.2%}\")\n",
        "print(f\"Female Selection Rate: {female_selection_rate:.2%}\")\n",
        "print(\"\\n\" + \"=\"*30 + \"\\n\")\n"
      ],
      "metadata": {
        "colab": {
          "base_uri": "https://localhost:8080/"
        },
        "id": "zneFBxP0MOC9",
        "outputId": "7c7c4c97-3631-422d-b449-0e526af4c851"
      },
      "execution_count": 4,
      "outputs": [
        {
          "output_type": "stream",
          "name": "stdout",
          "text": [
            "Total Male Applicants: 5\n",
            "Total Female Applicants: 5\n",
            "------------------------------\n",
            "Male Selection Rate: 80.00%\n",
            "Female Selection Rate: 20.00%\n",
            "\n",
            "==============================\n",
            "\n"
          ]
        }
      ]
    },
    {
      "cell_type": "code",
      "source": [
        "# 4. Evaluate fairness using the \"80% Rule\" (a common benchmark for Demographic Parity)\n",
        "# The selection rate of the minority group should be at least 80% of the majority group's rate.\n",
        "if max(male_selection_rate, female_selection_rate) > 0:\n",
        "    four_fifths_ratio = min(male_selection_rate, female_selection_rate) / max(male_selection_rate, female_selection_rate)\n",
        "    print(f\"Four-Fifths Ratio: {four_fifths_ratio:.2f}\")\n",
        "    if four_fifths_ratio < 0.8:\n",
        "        print(\"🚨 Result: The model shows evidence of bias according to the 80% rule.\")\n",
        "    else:\n",
        "        print(\"✅ Result: The model passes the 80% rule for fairness.\")\n",
        "else:\n",
        "    print(\"Cannot apply 80% rule as one group has a zero selection rate.\")\n",
        "\n"
      ],
      "metadata": {
        "colab": {
          "base_uri": "https://localhost:8080/"
        },
        "id": "ckGZVsmOMTA4",
        "outputId": "4f76766d-65d1-447a-f888-40f35d55db2d"
      },
      "execution_count": 5,
      "outputs": [
        {
          "output_type": "stream",
          "name": "stdout",
          "text": [
            "Four-Fifths Ratio: 0.25\n",
            "🚨 Result: The model shows evidence of bias according to the 80% rule.\n"
          ]
        }
      ]
    }
  ]
}